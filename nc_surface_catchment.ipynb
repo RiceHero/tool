{
 "cells": [
  {
   "cell_type": "code",
   "execution_count": 2,
   "metadata": {},
   "outputs": [],
   "source": [
    "import netCDF4 as nc\n",
    "import numpy as np\n",
    "import xarray as xr\n",
    "import os\n",
    "import os.path\n",
    "import csv\n",
    "import pandas as pd\n",
    "\n",
    "path =r'/data/workspace/swli/CSSPforcing/'#文件存储路径\n",
    "mask = nc.Dataset('/data/workspace/swli/out/1979/CSSPout-1979-01-01_23:30:00.nc')#mask数据(用输出数据和Forcing数据格点一一对应比用mask裁剪简单)\n",
    "ncdata = mask['DCHRG'][:]#（变量为一维）\n",
    "PRE_daily = [] #日平均降雨量储存数组\n",
    "result_df = pd.DataFrame()\n",
    "for year in range (1979,1988):#1979——1988年循环\n",
    "    l1=os.listdir(path+str(year))\n",
    "    for i in l1:\n",
    "        data = xr.open_dataset(path+str(year)+'/'+i,engine='netcdf4')#气象强迫数据\n",
    "        data = data['APCP']#读取降水量数据\n",
    "        ncdata = np.array(ncdata)\n",
    "        data_PRE = np.array(data)\n",
    "        mask = np.empty((195,240))\n",
    "        mask[:,:] = ncdata[0,:,:]#三维转二维\n",
    "        total_PRE = 0.0 #降水量初始化\n",
    "        count = 0 #计数\n",
    "        for hour in range(24):\n",
    "            PRE_hour = data_PRE[hour,:,:] \n",
    "            mask_vaild = mask != -999.9902344 #生成一个布尔mask,来标记出有效的非缺测点\n",
    "            PRE_vaild = PRE_hour[mask_vaild]\n",
    "            total_PRE += np.sum(PRE_vaild) \n",
    "            count += np.count_nonzero(mask_vaild)\n",
    "        avg_PRE = total_PRE / count #日平均降雨量\n",
    "        PRE_daily.append(avg_PRE)\n",
    "    df = pd.DataFrame(PRE_daily,columns=[year]) #数据转为DataFrame\n",
    "    result_df = pd.concat([result_df, df],axis=1) # 拼接   \n",
    "    PRE_daily = [] #\n",
    "    result_df.columns = range(1979, 1988)\n",
    "    result_df.to_csv('data.csv', index=False)    \n",
    "        "
   ]
  },
  {
   "cell_type": "code",
   "execution_count": 18,
   "metadata": {},
   "outputs": [],
   "source": [
    "RNOF_select=[]\n",
    "path =r'D:/CSSP/out_data/CSSPforcing/'\n",
    "    #find_latindex = 34.224 #站点、倾泻点纬度\n",
    "    #find_lonindex = 92.449 #站点、倾泻点经度\n",
    "result_df = pd.DataFrame()\n",
    "#for year in range (1979,1988):#1979——1988年循环\n",
    "l1=os.listdir(path)\n",
    "for i in l1: \n",
    "        ds=xr.open_dataset(path+'/'+i)\n",
    "        RNOF_tem = ds['APCP'].values #读取径流数据\n",
    "\n",
    "                #读取数据\n",
    "        RNOF_select.append( RNOF_tem[ :,:,:])    #i为纵坐标j为横坐标\n",
    "\n",
    "#df = pd.DataFrame(RNOF_select,columns=[year]) #数据转为DataFrame\n",
    "#result_df = pd.concat([result_df, df],axis=1) # 拼接   \n",
    "#RNOF_select=[]\n",
    "#result_df.columns = range(1979, 1988)\n",
    "#result_df.to_csv(storagename, index=False)   #.csv格式 "
   ]
  },
  {
   "cell_type": "code",
   "execution_count": 23,
   "metadata": {},
   "outputs": [
    {
     "data": {
      "text/plain": [
       "(2, 24, 195, 240)"
      ]
     },
     "execution_count": 23,
     "metadata": {},
     "output_type": "execute_result"
    }
   ],
   "source": [
    "RNOF_select = np.array(RNOF_select)\n",
    "RNOF_select.shape"
   ]
  },
  {
   "cell_type": "code",
   "execution_count": 11,
   "metadata": {},
   "outputs": [],
   "source": [
    "def  nc_surface_catchment(path,mask,varname,nx,ny,storagename):#这个函数用来读取被mask覆盖的区域并自动计算平均值输出到csv文件\n",
    "    #path =r'/data/workspace/swli/CSSPforcing'#文件存储路径\n",
    "    #mask = nc.Dataset('/data/workspace/swli/out/1979/CSSPout-1979-01-01_23_30_00.nc')#mask数据(用输出数据和Forcing数据格点一一对应比用mask裁剪简单)\n",
    "    ncdata = mask['DCHRG'][:]#（变量为一维）\n",
    "    PRE_daily = [] #日平均降雨量储存数组\n",
    "    result_df = pd.DataFrame()\n",
    "    for year in range (1979,1988):#1979——1988年循环\n",
    "        l1=os.listdir(path+str(year))\n",
    "        for i in l1:\n",
    "            data = xr.open_dataset(path+str(year)+'/'+i)#气象强迫数据\n",
    "            data = data[varname]#读取降水量数据\n",
    "            ncdata = np.array(ncdata)\n",
    "            data_PRE = np.array(data)\n",
    "            mask = np.empty((nx,ny))\n",
    "            mask[:,:] = ncdata[0,:,:]#三维转二维\n",
    "            total_PRE = 0.0 #降水量初始化\n",
    "            count = 0 #计数\n",
    "            for hour in range(24):\n",
    "                PRE_hour = data_PRE[hour,:,:] \n",
    "                mask_vaild = mask != -999.9902344 #生成一个布尔mask,来标记出有效的非缺测点\n",
    "                PRE_vaild = PRE_hour[mask_vaild]\n",
    "                total_PRE += np.sum(PRE_vaild) \n",
    "                count += np.count_nonzero(mask_vaild)\n",
    "            avg_PRE = total_PRE / count #日平均降雨量\n",
    "            PRE_daily.append(avg_PRE)\n",
    "        df = pd.DataFrame(PRE_daily,columns=[year]) #数据转为DataFrame\n",
    "        result_df = pd.concat([result_df, df],axis=1) # 拼接   \n",
    "        PRE_daily = [] #\n",
    "        result_df.columns = range(1979, 1988)\n",
    "        result_df.to_csv(storagename, index=False)    \n",
    "            \n",
    "\n"
   ]
  },
  {
   "cell_type": "code",
   "execution_count": null,
   "metadata": {},
   "outputs": [
    {
     "data": {
      "text/plain": [
       "array([[-999.99902344, -999.99902344, -999.99902344, ..., -999.99902344,\n",
       "        -999.99902344, -999.99902344],\n",
       "       [-999.99902344, -999.99902344, -999.99902344, ..., -999.99902344,\n",
       "        -999.99902344, -999.99902344],\n",
       "       [-999.99902344, -999.99902344, -999.99902344, ..., -999.99902344,\n",
       "        -999.99902344, -999.99902344],\n",
       "       ...,\n",
       "       [-999.99902344, -999.99902344, -999.99902344, ..., -999.99902344,\n",
       "        -999.99902344, -999.99902344],\n",
       "       [-999.99902344, -999.99902344, -999.99902344, ..., -999.99902344,\n",
       "        -999.99902344, -999.99902344],\n",
       "       [-999.99902344, -999.99902344, -999.99902344, ..., -999.99902344,\n",
       "        -999.99902344, -999.99902344]])"
      ]
     },
     "execution_count": 199,
     "metadata": {},
     "output_type": "execute_result"
    }
   ],
   "source": [
    "print(mask)"
   ]
  },
  {
   "cell_type": "code",
   "execution_count": 165,
   "metadata": {},
   "outputs": [
    {
     "data": {
      "text/plain": [
       "46800"
      ]
     },
     "execution_count": 165,
     "metadata": {},
     "output_type": "execute_result"
    }
   ],
   "source": []
  }
 ],
 "metadata": {
  "kernelspec": {
   "display_name": "_env_ipynb",
   "language": "python",
   "name": "python3"
  },
  "language_info": {
   "codemirror_mode": {
    "name": "ipython",
    "version": 3
   },
   "file_extension": ".py",
   "mimetype": "text/x-python",
   "name": "python",
   "nbconvert_exporter": "python",
   "pygments_lexer": "ipython3",
   "version": "3.7.16"
  },
  "orig_nbformat": 4
 },
 "nbformat": 4,
 "nbformat_minor": 2
}
