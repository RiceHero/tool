{
 "cells": [
  {
   "cell_type": "code",
   "execution_count": 5,
   "metadata": {},
   "outputs": [],
   "source": [
    "import xarray as xr \n",
    "import os"
   ]
  },
  {
   "cell_type": "code",
   "execution_count": 15,
   "metadata": {},
   "outputs": [],
   "source": [
    "\n",
    "path = '/data/workspace/sschen/China/out2'\n",
    "var = 'FSENG' \n",
    "store_path= '/data/workspace/swli/Data/CSSPout_forQH'\n",
    "\n",
    "def extract_vars(path, var, store_path):\n",
    "    for year in range(1981, 2023):  # 1981——2022年循环\n",
    "        year_path = os.path.join(path, str(year))\n",
    "        # 检查路径是否存在\n",
    "        if not os.path.exists(year_path):\n",
    "            continue\n",
    "        for file_name in os.listdir(year_path):\n",
    "            if len(file_name) == 30:\n",
    "                file_path = os.path.join(year_path, file_name)\n",
    "                with xr.open_dataset(file_path) as data:\n",
    "                    # 创建一个新的数据集，只包含要保存的变量\n",
    "                    new_ds = xr.Dataset({var: data[var]})\n",
    "                    # 新文件的名称\n",
    "                    new_filename = ''.join([file_name[:27], var, '.nc'])\n",
    "                    # 新文件的路径\n",
    "                    new_file = os.path.join(store_path, str(year), new_filename)\n",
    "                    # 保存数据集到新的NetCDF文件\n",
    "                    new_ds.to_netcdf(new_file)\n",
    "                    print(new_file)"
   ]
  },
  {
   "cell_type": "code",
   "execution_count": 13,
   "metadata": {},
   "outputs": [
    {
     "data": {
      "text/plain": [
       "'123456789123456789123456789FSENG.nc'"
      ]
     },
     "execution_count": 13,
     "metadata": {},
     "output_type": "execute_result"
    }
   ],
   "source": [
    "s= '123456789123456789123456789123'\n",
    "s[:27]\n",
    "var = 'FSENG' \n",
    "s  = ''.join([s[:27],var,'.nc'])\n",
    "s"
   ]
  }
 ],
 "metadata": {
  "kernelspec": {
   "display_name": "_env_ipynb",
   "language": "python",
   "name": "python3"
  },
  "language_info": {
   "codemirror_mode": {
    "name": "ipython",
    "version": 3
   },
   "file_extension": ".py",
   "mimetype": "text/x-python",
   "name": "python",
   "nbconvert_exporter": "python",
   "pygments_lexer": "ipython3",
   "version": "3.7.16"
  }
 },
 "nbformat": 4,
 "nbformat_minor": 2
}
