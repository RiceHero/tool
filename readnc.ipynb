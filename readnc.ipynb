{
 "cells": [
  {
   "cell_type": "code",
   "execution_count": 8,
   "metadata": {},
   "outputs": [],
   "source": [
    "import  netCDF4 as nc \n",
    "import  xarray as xr\n",
    "import  numpy  as np \n",
    "import os "
   ]
  },
  {
   "cell_type": "markdown",
   "metadata": {},
   "source": [
    "读取数据"
   ]
  },
  {
   "cell_type": "code",
   "execution_count": 3,
   "metadata": {},
   "outputs": [
    {
     "name": "stdout",
     "output_type": "stream",
     "text": [
      "<xarray.DataArray 'lat' (lat: 90)>\n",
      "array([35.791368, 35.758038, 35.724708, 35.691378, 35.658048, 35.624718,\n",
      "       35.591388, 35.558058, 35.524728, 35.491398, 35.458068, 35.424738,\n",
      "       35.391408, 35.358078, 35.324748, 35.291418, 35.258088, 35.224758,\n",
      "       35.191428, 35.158098, 35.124768, 35.091438, 35.058108, 35.024778,\n",
      "       34.991448, 34.958118, 34.924788, 34.891458, 34.858128, 34.824798,\n",
      "       34.791468, 34.758138, 34.724808, 34.691478, 34.658148, 34.624818,\n",
      "       34.591488, 34.558158, 34.524828, 34.491498, 34.458168, 34.424838,\n",
      "       34.391508, 34.358178, 34.324848, 34.291518, 34.258188, 34.224858,\n",
      "       34.191528, 34.158198, 34.124868, 34.091538, 34.058208, 34.024878,\n",
      "       33.991548, 33.958218, 33.924888, 33.891558, 33.858228, 33.824898,\n",
      "       33.791568, 33.758238, 33.724908, 33.691578, 33.658248, 33.624918,\n",
      "       33.591588, 33.558258, 33.524928, 33.491598, 33.458268, 33.424938,\n",
      "       33.391608, 33.358278, 33.324948, 33.291618, 33.258288, 33.224958,\n",
      "       33.191628, 33.158298, 33.124968, 33.091638, 33.058308, 33.024978,\n",
      "       32.991648, 32.958318, 32.924988, 32.891658, 32.858328, 32.824998])\n",
      "Coordinates:\n",
      "  * lat      (lat) float64 35.79 35.76 35.72 35.69 ... 32.92 32.89 32.86 32.82\n",
      "Attributes:\n",
      "    long_name:      latitude coordinate\n",
      "    standard_name:  latitude\n",
      "    units:          degrees_north\n"
     ]
    }
   ],
   "source": [
    "path = r'D:/Data/TPHiPr_Daily/1979'\n",
    "data_prcp = xr.open_dataset('D:/Data/TPHiPr_Daily/1979/tpmfd_prcp_d_19790101.nc')\n",
    "data_mask = xr.open_dataset('D:/Data/Gis/PREC/prcp_mask.nc')\n",
    "data_mask_prcp = data_mask['prcp'][:]\n",
    "data_mask_lat = data_mask['lat'][:]\n",
    "\n",
    "print(data_mask_lat)\n",
    "\n",
    "\n",
    "\n",
    "\n",
    "\n"
   ]
  },
  {
   "cell_type": "code",
   "execution_count": 1,
   "metadata": {},
   "outputs": [
    {
     "ename": "NameError",
     "evalue": "name 'data_prcp' is not defined",
     "output_type": "error",
     "traceback": [
      "\u001b[1;31m---------------------------------------------------------------------------\u001b[0m",
      "\u001b[1;31mNameError\u001b[0m                                 Traceback (most recent call last)",
      "\u001b[1;32mD:\\Temp\\ipykernel_19436\\3836529193.py\u001b[0m in \u001b[0;36m<module>\u001b[1;34m\u001b[0m\n\u001b[1;32m----> 1\u001b[1;33m \u001b[0mdata_prcp_lat\u001b[0m \u001b[1;33m=\u001b[0m \u001b[0mdata_prcp\u001b[0m\u001b[1;33m[\u001b[0m\u001b[1;34m'latitude'\u001b[0m\u001b[1;33m]\u001b[0m\u001b[1;33m[\u001b[0m\u001b[1;33m:\u001b[0m\u001b[1;33m]\u001b[0m\u001b[1;33m\u001b[0m\u001b[1;33m\u001b[0m\u001b[0m\n\u001b[0m\u001b[0;32m      2\u001b[0m \u001b[1;33m\u001b[0m\u001b[0m\n\u001b[0;32m      3\u001b[0m \u001b[0mdata_prcp_lat\u001b[0m \u001b[1;33m=\u001b[0m \u001b[0mnp\u001b[0m\u001b[1;33m.\u001b[0m\u001b[0marray\u001b[0m\u001b[1;33m(\u001b[0m\u001b[0mdata_prcp_lat\u001b[0m\u001b[1;33m)\u001b[0m\u001b[1;33m\u001b[0m\u001b[1;33m\u001b[0m\u001b[0m\n\u001b[0;32m      4\u001b[0m \u001b[0mprint\u001b[0m\u001b[1;33m(\u001b[0m\u001b[0mnp\u001b[0m\u001b[1;33m.\u001b[0m\u001b[0many\u001b[0m\u001b[1;33m(\u001b[0m\u001b[0mdata_prcp_lat\u001b[0m \u001b[1;33m==\u001b[0m \u001b[1;36m35.791368\u001b[0m\u001b[1;33m)\u001b[0m\u001b[1;33m)\u001b[0m\u001b[1;33m\u001b[0m\u001b[1;33m\u001b[0m\u001b[0m\n",
      "\u001b[1;31mNameError\u001b[0m: name 'data_prcp' is not defined"
     ]
    }
   ],
   "source": [
    "data_prcp_lat = data_prcp['latitude'][:]\n",
    "\n",
    "data_prcp_lat = np.array(data_prcp_lat)\n",
    "print(np.any(data_prcp_lat == 35.791368))"
   ]
  },
  {
   "cell_type": "code",
   "execution_count": 4,
   "metadata": {},
   "outputs": [],
   "source": [
    "\n",
    "#库包加载\n",
    "import netCDF4 as nc\n",
    "import numpy as np\n",
    "import xarray as xr\n",
    "import matplotlib.pyplot as plt\n",
    "import os\n",
    "import os.path\n",
    "import csv\n",
    "import pandas as pd\n",
    "\n",
    "#path=r'/data/workspace/swli/out/'#文件存放路径\n",
    "#################################################################\n",
    "path = r'D:/Data/TPHiPr_Daily'\n",
    "def extract_data(ir,jr,varname,storagename):#流域点数据提取\n",
    "    RNOF_select=[]\n",
    "    #find_latindex = 34.224 #站点、倾泻点纬度\n",
    "    #find_lonindex = 92.449 #站点、倾泻点经度\n",
    "    result_df = pd.DataFrame()\n",
    "    for year in range (1979,1979):#1979——1988年循环\n",
    "        l1=os.listdir(path+str(year))\n",
    "        for i in l1:\n",
    "            if len(i)>=0: \n",
    "                ds=xr.open_dataset(path+str(year)+'/'+i)\n",
    "                RNOF_tem = ds[varname].values #读取径流数据\n",
    "                #读取数据\n",
    "                RNOF_select.append( RNOF_tem[ :,ir, jr])    \n",
    "            continue\n",
    "        df = pd.DataFrame(RNOF_select,columns=[year]) #数据转为DataFrame\n",
    "        result_df = pd.concat([result_df, df],axis=1) # 拼接   \n",
    "        RNOF_select=[]\n",
    "    result_df.columns = range(1979, 1979)\n",
    "    result_df.to_csv(storagename, index=False)   #.csv格式 \n",
    "extract_data(105,230,'prcp','years_prcp_data.csv')\n"
   ]
  },
  {
   "cell_type": "code",
   "execution_count": 7,
   "metadata": {},
   "outputs": [
    {
     "name": "stdout",
     "output_type": "stream",
     "text": [
      "(37, 721, 1440)\n"
     ]
    }
   ],
   "source": [
    "ds = xr.open_dataset('D:/code/fortran/ERA5_sm20_19.nc')\n",
    "ds = ds['sm20'].values\n",
    "ds = np.array(ds)\n",
    "print(ds.shape)\n"
   ]
  }
 ],
 "metadata": {
  "kernelspec": {
   "display_name": "_env_ipynb",
   "language": "python",
   "name": "python3"
  },
  "language_info": {
   "codemirror_mode": {
    "name": "ipython",
    "version": 3
   },
   "file_extension": ".py",
   "mimetype": "text/x-python",
   "name": "python",
   "nbconvert_exporter": "python",
   "pygments_lexer": "ipython3",
   "version": "3.7.16"
  },
  "orig_nbformat": 4
 },
 "nbformat": 4,
 "nbformat_minor": 2
}
