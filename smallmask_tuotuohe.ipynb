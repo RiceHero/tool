{
 "cells": [
  {
   "cell_type": "code",
   "execution_count": 2,
   "metadata": {},
   "outputs": [
    {
     "name": "stdout",
     "output_type": "stream",
     "text": [
      "well done\n"
     ]
    }
   ],
   "source": [
    "#库包引入\n",
    "import xarray as xr\n",
    "import numpy as np\n",
    "import netCDF4 as nc\n",
    "\n",
    "def make2bin(ncfile,maskname,x,y):#nc文件，变量名 会直接在原nc文件上修改\n",
    "    data=xr.open_dataset(ncfile)\n",
    "    val=data[maskname]\n",
    "    val=np.array(val)\n",
    "    for i in range(x): \n",
    "        for j in range(y): \n",
    "            if(307<j<318 and 269<i<279 ):\n",
    "                val[i,j]=1 \n",
    "            else : \n",
    "                val[i,j]=0\n",
    "\n",
    "    outfile = nc.Dataset(ncfile,'r+')\n",
    "    outfile[maskname][:]=val\n",
    "    outfile.sync()\n",
    "    outfile.close()\n",
    "    print('well done')\n",
    "make2bin('tuotuorivermask.nc','tuotuorivermask',359,586)    "
   ]
  },
  {
   "cell_type": "code",
   "execution_count": 21,
   "metadata": {},
   "outputs": [
    {
     "data": {
      "text/plain": [
       "(361, 587)"
      ]
     },
     "execution_count": 21,
     "metadata": {},
     "output_type": "execute_result"
    }
   ],
   "source": [
    "ds=xr.open_dataset('tuotuorivermask.nc')\n",
    "data = ds['tuotuorivermask'] \n",
    "data = np.array(data)\n",
    "data.shape"
   ]
  }
 ],
 "metadata": {
  "kernelspec": {
   "display_name": "_env_ipynb",
   "language": "python",
   "name": "python3"
  },
  "language_info": {
   "codemirror_mode": {
    "name": "ipython",
    "version": 3
   },
   "file_extension": ".py",
   "mimetype": "text/x-python",
   "name": "python",
   "nbconvert_exporter": "python",
   "pygments_lexer": "ipython3",
   "version": "3.7.16"
  }
 },
 "nbformat": 4,
 "nbformat_minor": 2
}
