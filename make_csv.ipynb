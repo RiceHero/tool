{
 "cells": [
  {
   "cell_type": "code",
   "execution_count": null,
   "metadata": {},
   "outputs": [],
   "source": [
    "import pandas as pd\n",
    "import datetime\n",
    "import os\n",
    "\n",
    "# 定义输出路径\n",
    "path = r'D:\\CSSP\\out_data\\tuotuoriver'  # 使用原始字符串（raw string）避免转义字符问题\n",
    "\n",
    "# 确保输出路径存在\n",
    "if not os.path.exists(path):\n",
    "    os.makedirs(path)  # 如果路径不存在，则创建路径\n",
    "\n",
    "# 定义起始年份和结束年份\n",
    "start_year = 2007\n",
    "end_year = 2020\n",
    "\n",
    "# 循环生成每年的 CSV 文件\n",
    "for year in range(start_year, end_year + 1):\n",
    "    # 定义起始日期和结束日期\n",
    "    start_date = datetime.date(year, 1, 1)\n",
    "    end_date = datetime.date(year, 12, 31)\n",
    "\n",
    "    # 生成日期范围\n",
    "    date_range = pd.date_range(start_date, end_date)\n",
    "\n",
    "    # 创建 DataFrame\n",
    "    data = {\n",
    "        \"日期\": date_range.strftime(\"%Y/%m/%d\"),  # 第一列：日期\n",
    "        \"年\": date_range.year,                   # 第二列：年\n",
    "        \"月\": date_range.month,                  # 第三列：月\n",
    "        \"日\": date_range.day,                    # 第四列：日\n",
    "        \"径流量\": \"\",                            # 第五列：径流量（初始为空）\n",
    "        \"日序数\": range(1, len(date_range) + 1)  # 第六列：日序数\n",
    "    }\n",
    "\n",
    "    df = pd.DataFrame(data)\n",
    "\n",
    "    # 保存为 CSV 文件\n",
    "    file_name = f\"{year}.csv\"\n",
    "    file_path = os.path.join(path, file_name)  # 拼接完整文件路径\n",
    "    df.to_csv(file_path, index=False, encoding=\"utf-8-sig\")\n",
    "\n",
    "    print(f\"CSV 文件已创建：{file_path}\")"
   ]
  }
 ],
 "metadata": {
  "kernelspec": {
   "display_name": "_env_ipynb",
   "language": "python",
   "name": "python3"
  },
  "language_info": {
   "name": "python",
   "version": "3.7.16"
  }
 },
 "nbformat": 4,
 "nbformat_minor": 2
}
