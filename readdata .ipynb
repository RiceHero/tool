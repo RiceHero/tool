{
 "cells": [
  {
   "cell_type": "code",
   "execution_count": 6,
   "metadata": {},
   "outputs": [],
   "source": [
    "#引入库包\n",
    "import numpy as np \n",
    "from datetime import datetime \n",
    "import csv \n",
    "import matplotlib.pyplot as plt\n",
    "import pandas as pd\n",
    "import os\n",
    "import xarray as xr\n",
    "\n",
    "\n",
    "\n",
    "\n",
    " \n",
    "\n",
    "\n"
   ]
  },
  {
   "cell_type": "markdown",
   "metadata": {},
   "source": [
    "读取data文件夹的所有年份的径流数据并绘制流量折线图保存到image文件夹中"
   ]
  },
  {
   "cell_type": "code",
   "execution_count": null,
   "metadata": {},
   "outputs": [],
   "source": [
    "data=r'F:/data1/flowmeter/tuotuoriver/data/'\n",
    "l1=os.listdir(data)\n",
    "#  设置画图字体的大小\n",
    "plt.rcParams.update({'font.size': 15})\n",
    "#  解决中文乱码问题\n",
    "plt.rcParams['font.sans-serif'] = ['SimHei']\n",
    "#  解决负号乱码问题\n",
    "plt.rcParams['axes.unicode_minus'] = False\n",
    "\n",
    "for i in range(1979,1988):\n",
    "    s=pd.read_csv('F:/data1/flowmeter/tuotuoriver/data/'+str(i)+'.csv')\n",
    "    s1=np.array(s)\n",
    "    x=s1[:,5].astype(float)#x轴为日序数\n",
    "    y=s1[:,4].astype(float)#y轴为径流量\n",
    "    mean_flow = y.mean()\n",
    "    peak_flow = y.max()\n",
    "    peak_pos = np.argmax(y)\n",
    "    plt.plot(x[peak_pos], peak_flow, 'ro')\n",
    "    plt.figure(dpi=200)\n",
    "    plt.xlabel('日序数') \n",
    "    plt.ylabel('流量')\n",
    "    plt.text(x[peak_pos], peak_flow*0.9, '洪峰: {:.1f}'.format(peak_flow))\n",
    "    plt.hlines(mean_flow, 0, 365, colors='r', linestyles='--')  \n",
    "    plt.text(0, mean_flow*1.1, '平均流量:{:.1f}'.format(mean_flow))\n",
    "    plt.plot(x[peak_pos], peak_flow, 'ro', markersize=12) \n",
    "    plt.plot(x, y)\n",
    "    plt.title(str(i)+' 年实测径流折线图')\n",
    "    plt.savefig('D:/CSSP/out_data/tuotuoriver/data/image/'+str(i)+'.png')\n",
    "    plt.close()\n"
   ]
  },
  {
   "cell_type": "markdown",
   "metadata": {},
   "source": [
    "df = pd.read_csv('D:/CSSP/out_data/years_DCHRG_data.csv')\n",
    "#  设置画图字体的大小\n",
    "plt.rcParams.update({'font.size': 15})\n",
    "#  解决中文乱码问题\n",
    "plt.rcParams['font.sans-serif'] = ['SimHei']\n",
    "#  解决负号乱码问题\n",
    "plt.rcParams['axes.unicode_minus'] = False\n",
    "for year in range(1979, 1988):\n",
    "    s=pd.read_csv('D:/CSSP/out_data/tuotuoriver/data/'+str(year)+'.csv')\n",
    "    plt.figure()   \n",
    "    s = np.array(s)\n",
    "    y2 = s[:,4]#实测径流量 \n",
    "    y1 = df[str(year)]#模拟径流量\n",
    "    x = df['daynumber']\n",
    "    plt.clf()\n",
    "    plt.xlabel('天数')  \n",
    "    plt.ylabel('径流量')\n",
    "    plt.title('{}年模拟实测径流结果比较'.format(year))\n",
    "    plt.plot(x, y1, 'r-', label='模拟值')\n",
    "    plt.plot(x, y2, 'b--', label='观测值') \n",
    "    plt.legend(['模拟值','观测值'],loc='upper left')\n",
    "    plt.savefig('D:/CSSP/out_data/tuotuoriver/data/image/'+str(year)+'.png')\n",
    "    plt.show()"
   ]
  },
  {
   "cell_type": "code",
   "execution_count": 15,
   "metadata": {},
   "outputs": [],
   "source": [
    "data = xr.open_dataset('D:/CSSP/data_pause/realtime0.5_mask_china.nc')\n",
    "data_sm20 = data['sm20']\n",
    "data_sm20 = np.array(data_sm20)"
   ]
  },
  {
   "cell_type": "code",
   "execution_count": null,
   "metadata": {},
   "outputs": [],
   "source": []
  }
 ],
 "metadata": {
  "kernelspec": {
   "display_name": "Python 3.9.15 ('env_name')",
   "language": "python",
   "name": "python3"
  },
  "language_info": {
   "codemirror_mode": {
    "name": "ipython",
    "version": 3
   },
   "file_extension": ".py",
   "mimetype": "text/x-python",
   "name": "python",
   "nbconvert_exporter": "python",
   "pygments_lexer": "ipython3",
   "version": "3.7.16"
  },
  "orig_nbformat": 4,
  "vscode": {
   "interpreter": {
    "hash": "79654765f7d3e3de7a9cc8f1b2fa6f67616feeaf1abb1ca53f2e9937f92102f7"
   }
  }
 },
 "nbformat": 4,
 "nbformat_minor": 2
}
