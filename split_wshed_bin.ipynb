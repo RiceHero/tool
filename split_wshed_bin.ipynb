{
 "cells": [
  {
   "cell_type": "code",
   "execution_count": 3,
   "id": "45e3db60-8764-404c-aa50-69a42a9b86c1",
   "metadata": {},
   "outputs": [
    {
     "name": "stdout",
     "output_type": "stream",
     "text": [
      "number of grids in watershed:  27\n",
      "Done!\n"
     ]
    }
   ],
   "source": [
    "#!/public/local/anaconda2/bin/python\n",
    "# -*- coding: utf-8 -*-\n",
    "\n",
    "import numpy as np\n",
    "import os\n",
    "import glob\n",
    "import sys\n",
    "\n",
    "# settings\n",
    "# big endian\n",
    "is_sys_little = sys.byteorder == 'little'\n",
    "is_watershed_mask = True\n",
    "data_type = '>f4'\n",
    "nx = 450\n",
    "ny = 270\n",
    "len_fill_dir = 3\n",
    "# cut sizes\n",
    "# nbr_cell_num = 1\n",
    "nbr_cell_num = 1\n",
    "\n",
    "# dirs\n",
    "proj_path = os.path.abspath('.')\n",
    "os.chdir(proj_path)\n",
    "in_dir = 'sbcs'\n",
    "# out_dir = 'wshed_split'\n",
    "out_dir = 'sbcs_32'\n",
    "in_filename_list = glob.glob(in_dir + os.sep + '*')\n",
    "# WARNING: for linux, MUST sort before used\n",
    "in_filename_list.sort()\n",
    "\n",
    "# mask: 1: watershed; -999: nodata\n",
    "if is_watershed_mask:\n",
    "    wshed_mask = 'mask'\n",
    "    mask_arr = np.fromfile(os.path.join(proj_path, wshed_mask), dtype=data_type).reshape(ny, nx)\n",
    "    mask_inside = np.where(mask_arr == 1, True, False)\n",
    "    print ('number of grids in watershed: ', mask_inside.sum())\n",
    "else:\n",
    "    mask_inside = np.ones((ny, nx), dtype=np.bool)\n",
    "    print ('number of grids in whole region: ', mask_inside.sum())\n",
    "\n",
    "for in_filename in in_filename_list:\n",
    "#    print in_filename\n",
    "\n",
    "    # read\n",
    "    arr = np.fromfile(os.path.join(proj_path, in_filename), dtype=data_type).reshape(ny, nx)\n",
    "\n",
    "    for ix_start in range(0, nx, nbr_cell_num):\n",
    "        ix_end = min(ix_start + nbr_cell_num, nx)\n",
    "        for iy_start in range(0, ny, nbr_cell_num):\n",
    "            iy_end = min(iy_start + nbr_cell_num, ny)\n",
    "\n",
    "            # masked?\n",
    "            if not np.any(mask_inside[iy_start:iy_end, ix_start:ix_end]):\n",
    "                continue\n",
    "\n",
    "            # create dirs\n",
    "            split_dir = str(ix_start + 1).zfill(len_fill_dir) + 'x' + str(iy_start + 1).zfill(len_fill_dir) +  \\\n",
    "                '_' + str(nbr_cell_num)\n",
    "            if not os.path.isdir(os.path.join(out_dir, split_dir)):\n",
    "                os.mkdir(os.path.join(out_dir, split_dir))\n",
    "            out_filepath = os.path.join(out_dir, in_filename.replace(in_dir, split_dir))\n",
    "\n",
    "            # cut\n",
    "            arr_cut = arr[iy_start:iy_end, ix_start:ix_end]\n",
    "            # byte order swap\n",
    "            # here data_type contains big endian '>', so no need to change.\n",
    "\n",
    "            # save\n",
    "            arr_cut.tofile(out_filepath)\n",
    "\n",
    "print ('Done!')\n"
   ]
  },
  {
   "cell_type": "code",
   "execution_count": null,
   "id": "d527e2d0-194c-4df4-adb8-b713eaea682e",
   "metadata": {},
   "outputs": [],
   "source": []
  }
 ],
 "metadata": {
  "kernelspec": {
   "display_name": "Python 3 (ipykernel)",
   "language": "python",
   "name": "python3"
  },
  "language_info": {
   "codemirror_mode": {
    "name": "ipython",
    "version": 3
   },
   "file_extension": ".py",
   "mimetype": "text/x-python",
   "name": "python",
   "nbconvert_exporter": "python",
   "pygments_lexer": "ipython3",
   "version": "3.10.10"
  }
 },
 "nbformat": 4,
 "nbformat_minor": 5
}
