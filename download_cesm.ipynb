{
 "cells": [
  {
   "cell_type": "code",
   "execution_count": null,
   "metadata": {},
   "outputs": [
    {
     "name": "stdout",
     "output_type": "stream",
     "text": [
      "正在处理第 1 行: https://svn-ccsm-inputdata.cgd.ucar.edu/trunk/inputdata/atm/datm7/atm_forcing.datm7.GSWP3.0.5d.v1.c170516/domain.lnd.360x720_gswp3.0v1.c170606.nc\n",
      "开始下载 domain.lnd.360x720_gswp3.0v1.c170606.nc 到 D:/Data/cesm/domain.lnd.360x720_gswp3.0v1.c170606.nc...\n"
     ]
    },
    {
     "name": "stderr",
     "output_type": "stream",
     "text": [
      "domain.lnd.360x720_gswp3.0v1.c170606.nc: 100%|██████████| 22.7M/22.7M [00:08<00:00, 2.90MB/s]\n"
     ]
    },
    {
     "name": "stdout",
     "output_type": "stream",
     "text": [
      "成功下载：domain.lnd.360x720_gswp3.0v1.c170606.nc\n",
      "正在处理第 2 行: https://svn-ccsm-inputdata.cgd.ucar.edu/trunk/inputdata/atm/datm7/atm_forcing.datm7.GSWP3.0.5d.v1.c170516/Solar/clmforc.GSWP3.c2011.0.5x0.5.Solr.1991-01.nc\n",
      "开始下载 clmforc.GSWP3.c2011.0.5x0.5.Solr.1991-01.nc 到 D:/Data/cesm/clmforc.GSWP3.c2011.0.5x0.5.Solr.1991-01.nc...\n"
     ]
    },
    {
     "name": "stderr",
     "output_type": "stream",
     "text": [
      "clmforc.GSWP3.c2011.0.5x0.5.Solr.1991-01.nc: 100%|██████████| 247M/247M [00:35<00:00, 7.26MB/s]   \n"
     ]
    },
    {
     "name": "stdout",
     "output_type": "stream",
     "text": [
      "成功下载：clmforc.GSWP3.c2011.0.5x0.5.Solr.1991-01.nc\n",
      "正在处理第 3 行: https://svn-ccsm-inputdata.cgd.ucar.edu/trunk/inputdata/atm/datm7/atm_forcing.datm7.GSWP3.0.5d.v1.c170516/Solar/clmforc.GSWP3.c2011.0.5x0.5.Solr.1991-02.nc\n",
      "开始下载 clmforc.GSWP3.c2011.0.5x0.5.Solr.1991-02.nc 到 D:/Data/cesm/clmforc.GSWP3.c2011.0.5x0.5.Solr.1991-02.nc...\n"
     ]
    },
    {
     "name": "stderr",
     "output_type": "stream",
     "text": [
      "clmforc.GSWP3.c2011.0.5x0.5.Solr.1991-02.nc: 100%|██████████| 223M/223M [01:32<00:00, 2.52MB/s]   \n"
     ]
    },
    {
     "name": "stdout",
     "output_type": "stream",
     "text": [
      "成功下载：clmforc.GSWP3.c2011.0.5x0.5.Solr.1991-02.nc\n",
      "正在处理第 4 行: https://svn-ccsm-inputdata.cgd.ucar.edu/trunk/inputdata/atm/datm7/atm_forcing.datm7.GSWP3.0.5d.v1.c170516/Solar/clmforc.GSWP3.c2011.0.5x0.5.Solr.1991-03.nc\n",
      "开始下载 clmforc.GSWP3.c2011.0.5x0.5.Solr.1991-03.nc 到 D:/Data/cesm/clmforc.GSWP3.c2011.0.5x0.5.Solr.1991-03.nc...\n"
     ]
    },
    {
     "name": "stderr",
     "output_type": "stream",
     "text": [
      "clmforc.GSWP3.c2011.0.5x0.5.Solr.1991-03.nc: 100%|██████████| 247M/247M [00:27<00:00, 9.59MB/s]   \n"
     ]
    },
    {
     "name": "stdout",
     "output_type": "stream",
     "text": [
      "成功下载：clmforc.GSWP3.c2011.0.5x0.5.Solr.1991-03.nc\n",
      "正在处理第 5 行: https://svn-ccsm-inputdata.cgd.ucar.edu/trunk/inputdata/atm/datm7/atm_forcing.datm7.GSWP3.0.5d.v1.c170516/Solar/clmforc.GSWP3.c2011.0.5x0.5.Solr.1991-04.nc\n",
      "开始下载 clmforc.GSWP3.c2011.0.5x0.5.Solr.1991-04.nc 到 D:/Data/cesm/clmforc.GSWP3.c2011.0.5x0.5.Solr.1991-04.nc...\n"
     ]
    },
    {
     "name": "stderr",
     "output_type": "stream",
     "text": [
      "clmforc.GSWP3.c2011.0.5x0.5.Solr.1991-04.nc: 100%|██████████| 239M/239M [00:23<00:00, 10.8MB/s]   \n"
     ]
    },
    {
     "name": "stdout",
     "output_type": "stream",
     "text": [
      "成功下载：clmforc.GSWP3.c2011.0.5x0.5.Solr.1991-04.nc\n",
      "正在处理第 6 行: https://svn-ccsm-inputdata.cgd.ucar.edu/trunk/inputdata/atm/datm7/atm_forcing.datm7.GSWP3.0.5d.v1.c170516/Solar/clmforc.GSWP3.c2011.0.5x0.5.Solr.1991-05.nc\n",
      "开始下载 clmforc.GSWP3.c2011.0.5x0.5.Solr.1991-05.nc 到 D:/Data/cesm/clmforc.GSWP3.c2011.0.5x0.5.Solr.1991-05.nc...\n"
     ]
    },
    {
     "name": "stderr",
     "output_type": "stream",
     "text": [
      "clmforc.GSWP3.c2011.0.5x0.5.Solr.1991-05.nc: 100%|██████████| 247M/247M [00:41<00:00, 6.29MB/s]   \n"
     ]
    },
    {
     "name": "stdout",
     "output_type": "stream",
     "text": [
      "成功下载：clmforc.GSWP3.c2011.0.5x0.5.Solr.1991-05.nc\n",
      "正在处理第 7 行: https://svn-ccsm-inputdata.cgd.ucar.edu/trunk/inputdata/atm/datm7/atm_forcing.datm7.GSWP3.0.5d.v1.c170516/Solar/clmforc.GSWP3.c2011.0.5x0.5.Solr.1991-06.nc\n",
      "开始下载 clmforc.GSWP3.c2011.0.5x0.5.Solr.1991-06.nc 到 D:/Data/cesm/clmforc.GSWP3.c2011.0.5x0.5.Solr.1991-06.nc...\n"
     ]
    },
    {
     "name": "stderr",
     "output_type": "stream",
     "text": [
      "clmforc.GSWP3.c2011.0.5x0.5.Solr.1991-06.nc: 100%|██████████| 239M/239M [00:29<00:00, 8.55MB/s]   \n"
     ]
    },
    {
     "name": "stdout",
     "output_type": "stream",
     "text": [
      "成功下载：clmforc.GSWP3.c2011.0.5x0.5.Solr.1991-06.nc\n",
      "正在处理第 8 行: https://svn-ccsm-inputdata.cgd.ucar.edu/trunk/inputdata/atm/datm7/atm_forcing.datm7.GSWP3.0.5d.v1.c170516/Solar/clmforc.GSWP3.c2011.0.5x0.5.Solr.1991-07.nc\n",
      "开始下载 clmforc.GSWP3.c2011.0.5x0.5.Solr.1991-07.nc 到 D:/Data/cesm/clmforc.GSWP3.c2011.0.5x0.5.Solr.1991-07.nc...\n"
     ]
    },
    {
     "name": "stderr",
     "output_type": "stream",
     "text": [
      "clmforc.GSWP3.c2011.0.5x0.5.Solr.1991-07.nc: 100%|██████████| 247M/247M [00:32<00:00, 7.99MB/s]   \n"
     ]
    },
    {
     "name": "stdout",
     "output_type": "stream",
     "text": [
      "成功下载：clmforc.GSWP3.c2011.0.5x0.5.Solr.1991-07.nc\n",
      "正在处理第 9 行: https://svn-ccsm-inputdata.cgd.ucar.edu/trunk/inputdata/atm/datm7/atm_forcing.datm7.GSWP3.0.5d.v1.c170516/Solar/clmforc.GSWP3.c2011.0.5x0.5.Solr.1991-08.nc\n",
      "开始下载 clmforc.GSWP3.c2011.0.5x0.5.Solr.1991-08.nc 到 D:/Data/cesm/clmforc.GSWP3.c2011.0.5x0.5.Solr.1991-08.nc...\n"
     ]
    },
    {
     "name": "stderr",
     "output_type": "stream",
     "text": [
      "clmforc.GSWP3.c2011.0.5x0.5.Solr.1991-08.nc:  43%|████▎     | 106M/247M [01:44<00:25, 5.79MB/s]   "
     ]
    }
   ],
   "source": [
    "import os\n",
    "import requests\n",
    "from tqdm import tqdm\n",
    "\n",
    "def download_file(url, target_dir):\n",
    "    \"\"\"\n",
    "    下载单个文件到指定目录，并显示下载进度\n",
    "    :param url: 文件的下载链接\n",
    "    :param target_dir: 文件存储目录\n",
    "    \"\"\"\n",
    "    try:\n",
    "        # 从 URL 获取文件名\n",
    "        filename = url.split(\"/\")[-1]\n",
    "        target_path = os.path.join(target_dir, filename)\n",
    "\n",
    "        # 检查目标路径是否存在，不存在则创建\n",
    "        if not os.path.exists(target_dir):\n",
    "            os.makedirs(target_dir)\n",
    "\n",
    "        # 发送 HEAD 请求获取文件大小\n",
    "        response = requests.head(url, allow_redirects=True)\n",
    "        file_size = int(response.headers.get(\"content-length\", 0))\n",
    "\n",
    "        # 下载文件并显示进度条\n",
    "        print(f\"开始下载 {filename} 到 {target_path}...\")\n",
    "        response = requests.get(url, stream=True)\n",
    "        if response.status_code == 200:\n",
    "            with open(target_path, \"wb\") as file:\n",
    "                with tqdm(\n",
    "                    total=file_size,\n",
    "                    unit=\"B\",\n",
    "                    unit_scale=True,\n",
    "                    unit_divisor=1024,\n",
    "                    desc=filename,\n",
    "                ) as progress:\n",
    "                    for chunk in response.iter_content(chunk_size=1024):\n",
    "                        if chunk:\n",
    "                            file.write(chunk)\n",
    "                            progress.update(len(chunk))\n",
    "            print(f\"成功下载：{filename}\")\n",
    "        else:\n",
    "            print(f\"下载失败：{url}. HTTP 状态码: {response.status_code}\")\n",
    "    except Exception as e:\n",
    "        print(f\"下载 {url} 时出错: {e}\")\n",
    "\n",
    "def main():\n",
    "    # 输入文件路径，存储所有下载链接\n",
    "    input_file = \"D:/Data/cesm/B1850G_input.txt\"  # 包含下载链接的文件\n",
    "    target_dir = \"D:/Data/cesm/B1850G/\"         # 文件下载目标目录\n",
    "    # 检查输入文件是否存在\n",
    "    if not os.path.exists(input_file):\n",
    "        print(f\"输入文件 {input_file} 不存在。\")\n",
    "        return\n",
    "\n",
    "    # 逐行读取文件中的路径并下载\n",
    "    with open(input_file, \"r\") as f:\n",
    "        for line_num, line in enumerate(f, start=1):\n",
    "            url = line.strip()  # 移除每行首尾的空格和换行符\n",
    "            if url:\n",
    "                print(f\"正在处理第 {line_num} 行: {url}\")\n",
    "                download_file(url, target_dir)\n",
    "\n",
    "if __name__ == \"__main__\":\n",
    "    main()\n"
   ]
  }
 ],
 "metadata": {
  "kernelspec": {
   "display_name": "_env_ipynb",
   "language": "python",
   "name": "python3"
  },
  "language_info": {
   "codemirror_mode": {
    "name": "ipython",
    "version": 3
   },
   "file_extension": ".py",
   "mimetype": "text/x-python",
   "name": "python",
   "nbconvert_exporter": "python",
   "pygments_lexer": "ipython3",
   "version": "3.7.16"
  }
 },
 "nbformat": 4,
 "nbformat_minor": 2
}
